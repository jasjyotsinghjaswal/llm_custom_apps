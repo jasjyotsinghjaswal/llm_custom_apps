{
 "cells": [
  {
   "cell_type": "markdown",
   "metadata": {},
   "source": [
    "## Import Dependencies"
   ]
  },
  {
   "cell_type": "code",
   "execution_count": 9,
   "metadata": {},
   "outputs": [],
   "source": [
    "import logging\n",
    "from abc import ABC, abstractmethod\n",
    "import math\n",
    "import json\n",
    "import importlib\n",
    "import sys\n",
    "import configparser\n",
    "import requests\n",
    "import os\n",
    "import openpyxl\n",
    "import json\n",
    "from dotenv import load_dotenv\n",
    "#from pyspark import SparkConf\n",
    "#from pyspark.sql import SparkSession, DataFrame"
   ]
  },
  {
   "cell_type": "markdown",
   "metadata": {},
   "source": [
    "## Load Env Variables from .env"
   ]
  },
  {
   "cell_type": "code",
   "execution_count": null,
   "metadata": {},
   "outputs": [],
   "source": [
    "# Load Environment Variables from .env\n",
    "load_dotenv()\n",
    "os.environ[\"SPARK_HOME\"] = os.getenv(\"PROJ_SPARK_HOME\",\"\")\n",
    "project_path = os.getenv(\"PROJECT_PATH\")\n",
    "dataset_path = f\"{project_path}\\llm_custom_apps\\\\datasets\"\n",
    "test_data_path = f\"{dataset_path}\\\\test_datasets\"\n",
    "app_data_path = f\"{dataset_path}\\\\app_datasets\""
   ]
  },
  {
   "cell_type": "markdown",
   "metadata": {},
   "source": [
    "## Logger Method"
   ]
  },
  {
   "cell_type": "code",
   "execution_count": 4,
   "metadata": {},
   "outputs": [],
   "source": [
    "def create_logger(logger_nm):\n",
    "    \"\"\"\n",
    "    Function takes a Logger Name and returns a Generic Logger\n",
    "    :param logger_nm: Name of the Logger that is prefixed to the Log Statements\n",
    "    :return: logger object to be used across different scripts\n",
    "    \"\"\"\n",
    "\n",
    "    # Define generic logger variable\n",
    "    gen_logger = logging.getLogger(logger_nm)\n",
    "    # a) Create Streaming Handler and Set level to Debug\n",
    "    gen_logger.setLevel(logging.DEBUG)\n",
    "    ch = logging.StreamHandler()\n",
    "    # b) Create formatter\n",
    "    lg_str = \"\\n%(name)s - %(levelname)s - %(lineno)s - %(funcName)s - %(asctime)s - %(message)s\"\n",
    "    formatter = logging.Formatter(lg_str)\n",
    "    # c) Add formatter to ch\n",
    "    ch.setFormatter(formatter)\n",
    "    # d) Add ch to logger after clearing previous handlers\n",
    "    gen_logger.handlers.clear()\n",
    "    gen_logger.addHandler(ch)\n",
    "\n",
    "    return gen_logger"
   ]
  },
  {
   "cell_type": "code",
   "execution_count": 5,
   "metadata": {},
   "outputs": [],
   "source": [
    "gen_logger = create_logger(\"Generic Logger\")"
   ]
  },
  {
   "cell_type": "markdown",
   "metadata": {},
   "source": [
    "## Reusable Rest API method"
   ]
  },
  {
   "cell_type": "code",
   "execution_count": 6,
   "metadata": {},
   "outputs": [],
   "source": [
    "def reusable_rest_api(api_url, req_data=None, cert_verify=False, header=None, method=\"GET\", resp=\"JSON\", retry_lim=3):\n",
    "    \"\"\"\n",
    "    Make HTTP requests to a specified API endpoint with various options.\n",
    "\n",
    "    Parameters:\n",
    "    - api_url (str): The URL of the API endpoint to make the request to.\n",
    "    - req_data (str or dict, optional): The request data to send to the API (e.g., JSON payload). Default is None.\n",
    "    - cert_verify (bool, optional): Whether to verify the SSL certificate. Default is False.\n",
    "    - header (dict, optional): Additional headers to include in the request. Default is None.\n",
    "    - method (str, optional): The HTTP request method to use (GET, POST, PUT, DELETE). Default is \"GET\".\n",
    "    - resp (str, optional): The expected response type (\"JSON\" or \"RAW\"). Default is \"JSON\".\n",
    "    - retry_lim (int, optional): The maximum number of retry attempts in case of connection errors. Default is 3.\n",
    "\n",
    "    Returns:\n",
    "    - tuple: A tuple containing the HTTP status code of the response and the response content.\n",
    "\n",
    "    Raises:\n",
    "    - requests.exceptions.HTTPError: If an invalid API method is specified.\n",
    "    - requests.exceptions.ConnectionError: If a connection error occurs, and the maximum retry limit is exceeded.\n",
    "    - requests.exceptions.Timeout: If a timeout occurs while making the request.\n",
    "    - requests.exceptions.RequestException: If a general request exception occurs.\n",
    "    - ValueError: If there is an issue parsing the response content as JSON.\n",
    "\n",
    "    Example usage:\n",
    "    status_code, response_data = reusable_rest_api(\n",
    "        api_url=\"https://example.com/api\",\n",
    "        req_data={\"key\": \"value\"},\n",
    "        cert_verify=True,\n",
    "        header={\"Authorization\": \"Bearer Token\"},\n",
    "        method=\"POST\",\n",
    "        resp=\"JSON\",\n",
    "        retry_lim=3\n",
    "    )\n",
    "    \"\"\"\n",
    "    retry = 1\n",
    "    while True:\n",
    "        resp_content = \"\"\n",
    "        try:\n",
    "            if method == \"GET\":\n",
    "                resp_content = requests.get(api_url, header=header, data=req_data, verify=cert_verify)\n",
    "                if resp == \"JSON\": resp_json = json.loads(resp_content.content)\n",
    "            elif method == \"POST\":\n",
    "                resp_content = requests.post(api_url, header=header, data=req_data, verify=cert_verify)\n",
    "                if resp == \"JSON\": resp_json = json.loads(resp_content.content)\n",
    "            elif method == \"PUT\":\n",
    "                resp_content = requests.put(api_url, header=header, data=req_data, verify=cert_verify)\n",
    "                if resp == \"JSON\": resp_json = json.loads(resp_content.content)\n",
    "            elif method == \"DELETE\":\n",
    "                resp_content = requests.delete(api_url, header=header, data=req_data, verify=cert_verify)\n",
    "                resp_json = None\n",
    "            else:\n",
    "                raise requests.exceptions.HTTPError(\"Invalid API Method\")\n",
    "        except requests.exceptions.HTTPError as err:\n",
    "            gen_logger.error(f\"The exception while calling this api is: {err}\")\n",
    "            sys.exit(1)\n",
    "        except requests.exceptions.ConnectionError as err:\n",
    "            gen_logger.error(f\"The exception while calling this api is: {err}\")\n",
    "            retry = retry + 1\n",
    "            if retry <= retry_lim+1:  continue\n",
    "            gen_logger.error(\"Retry Limit Exceeded\")\n",
    "            sys.exit(1)\n",
    "        except requests.exceptions.Timeout as err:\n",
    "            gen_logger.error(f\"The exception while calling this api is: {err}\")\n",
    "            sys.exit(1)\n",
    "        except requests.exceptions.RequestException as err:\n",
    "            gen_logger.error(f\"The exception while calling this api is: {err}\")\n",
    "            sys.exit(1)\n",
    "        except ValueError as err:\n",
    "            gen_logger.error(f\"The exception while calling this api is: {err}\")\n",
    "            retry = retry + 1\n",
    "            if retry <= retry_lim+1:  continue\n",
    "            gen_logger.error(\"Retry Limit Exceeded\")\n",
    "            sys.exit(1)\n",
    "\n",
    "        final_resp = resp_json if (resp == \"JSON\") else resp_content\n",
    "        return resp_content.status_code,final_resp"
   ]
  },
  {
   "cell_type": "code",
   "execution_count": 7,
   "metadata": {},
   "outputs": [],
   "source": [
    "def sum(a,b):\n",
    "    return a+b"
   ]
  },
  {
   "cell_type": "code",
   "execution_count": 8,
   "metadata": {},
   "outputs": [
    {
     "name": "stdout",
     "output_type": "stream",
     "text": [
      "13\n"
     ]
    }
   ],
   "source": [
    "print(sum(9,4))"
   ]
  },
  {
   "cell_type": "code",
   "execution_count": null,
   "metadata": {},
   "outputs": [],
   "source": []
  }
 ],
 "metadata": {
  "kernelspec": {
   "display_name": "Python 3",
   "language": "python",
   "name": "python3"
  },
  "language_info": {
   "codemirror_mode": {
    "name": "ipython",
    "version": 3
   },
   "file_extension": ".py",
   "mimetype": "text/x-python",
   "name": "python",
   "nbconvert_exporter": "python",
   "pygments_lexer": "ipython3",
   "version": "3.11.11"
  }
 },
 "nbformat": 4,
 "nbformat_minor": 2
}
