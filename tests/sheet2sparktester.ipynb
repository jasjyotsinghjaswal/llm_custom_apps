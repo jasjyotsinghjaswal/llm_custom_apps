{
 "cells": [
  {
   "cell_type": "code",
   "execution_count": 1,
   "metadata": {},
   "outputs": [],
   "source": [
    "import os\n",
    "from dotenv import load_dotenv\n",
    "load_dotenv()\n",
    "project_path = os.getenv(\"PROJECT_PATH\")"
   ]
  },
  {
   "cell_type": "code",
   "execution_count": 2,
   "metadata": {},
   "outputs": [
    {
     "name": "stdout",
     "output_type": "stream",
     "text": [
      "13\n"
     ]
    }
   ],
   "source": [
    "%run \"{project_path}\\llm_custom_apps\\llm_apps\\oh_sheet_its_spark\\utils.ipynb\""
   ]
  },
  {
   "cell_type": "code",
   "execution_count": 3,
   "metadata": {},
   "outputs": [
    {
     "data": {
      "text/plain": [
       "{'SalesInfo': {'StoreID': {'ColumnID': 'A'},\n",
       "  'SalesYear': {'ColumnID': 'B'},\n",
       "  'SalesValue': {'ColumnID': 'C'},\n",
       "  'StoreLocation': {'ColumnID': 'D'},\n",
       "  'Owner': {'ColumnID': 'E'}},\n",
       " 'RegionInfo': {'ID': {'ColumnID': 'A'}, 'Location': {'ColumnID': 'B'}},\n",
       " 'StoreInfo': {'ID': {'ColumnID': 'A'},\n",
       "  'RegionID': {'ColumnID': 'B'},\n",
       "  'StoreOwner': {'ColumnID': 'C'}},\n",
       " 'SaleGrowthReport1': {'StoreID': {'ColumnID': 'A'},\n",
       "  'AverageSales': {'ColumnID': 'B'},\n",
       "  'MinSales': {'ColumnID': 'C'},\n",
       "  'MaxSales': {'ColumnID': 'D'}},\n",
       " 'SaleGrowthReport2': {'StoreLocation-SalesYear': {'ColumnID': 'A'},\n",
       "  'Year': {'ColumnID': 'B'},\n",
       "  'Location': {'ColumnID': 'C'},\n",
       "  'AverageSales': {'ColumnID': 'D'},\n",
       "  'MinSales': {'ColumnID': 'E'},\n",
       "  'MaxSales': {'ColumnID': 'F'}}}"
      ]
     },
     "execution_count": 3,
     "metadata": {},
     "output_type": "execute_result"
    }
   ],
   "source": [
    "xls_col_info = get_excel_col_header(f\"{test_data_path}\\SalesData1.xlsx\")\n",
    "xls_col_info"
   ]
  },
  {
   "cell_type": "code",
   "execution_count": 4,
   "metadata": {},
   "outputs": [
    {
     "data": {
      "text/plain": [
       "{'SalesInfo': {'StoreID': {'ColumnID': 'A', 'ColumnValue': '11'},\n",
       "  'SalesYear': {'ColumnID': 'B', 'ColumnValue': '2020'},\n",
       "  'SalesValue': {'ColumnID': 'C', 'ColumnValue': '15789'},\n",
       "  'StoreLocation': {'ColumnID': 'D',\n",
       "   'ColumnValue': '=IFERROR(INDEX(RegionInfo!B:B, MATCH(INDEX(StoreInfo!B:B, MATCH(A2, StoreInfo!A:A, 0)), RegionInfo!A:A, 0)), \"\")'},\n",
       "  'Owner': {'ColumnID': 'E',\n",
       "   'ColumnValue': '=IFERROR(INDEX(StoreInfo!C:C, MATCH(A2, StoreInfo!A:A, 0)), \"\")'}},\n",
       " 'RegionInfo': {'ID': {'ColumnID': 'A', 'ColumnValue': '1'},\n",
       "  'Location': {'ColumnID': 'B', 'ColumnValue': 'Halifax'}},\n",
       " 'StoreInfo': {'ID': {'ColumnID': 'A', 'ColumnValue': '11'},\n",
       "  'RegionID': {'ColumnID': 'B', 'ColumnValue': '1'},\n",
       "  'StoreOwner': {'ColumnID': 'C', 'ColumnValue': 'Ethan Carter'}},\n",
       " 'SaleGrowthReport1': {'StoreID': {'ColumnID': 'A',\n",
       "   'ColumnValue': '=_xlfn.UNIQUE(_xlfn._xlws.FILTER(SalesInfo!A:A, SalesInfo!A:A<>\"\"))'},\n",
       "  'AverageSales': {'ColumnID': 'B',\n",
       "   'ColumnValue': '=AVERAGEIF(SalesInfo!A:A, A2, SalesInfo!C:C)'},\n",
       "  'MinSales': {'ColumnID': 'C',\n",
       "   'ColumnValue': '=MIN(IF(SalesInfo!A:A=A2, SalesInfo!C:C))'},\n",
       "  'MaxSales': {'ColumnID': 'D',\n",
       "   'ColumnValue': '=MAX(IF(SalesInfo!A:A=A2, SalesInfo!C:C))'}},\n",
       " 'SaleGrowthReport2': {'StoreLocation-SalesYear': {'ColumnID': 'A',\n",
       "   'ColumnValue': '=_xlfn.UNIQUE(SalesInfo!D:D & \"-\" & SalesInfo!B:B)'},\n",
       "  'Year': {'ColumnID': 'B',\n",
       "   'ColumnValue': '=RIGHT(A2, LEN(A2) - FIND(\"-\", A2))'},\n",
       "  'Location': {'ColumnID': 'C', 'ColumnValue': '=LEFT(A2, FIND(\"-\", A2) - 1)'},\n",
       "  'AverageSales': {'ColumnID': 'D',\n",
       "   'ColumnValue': '=AVERAGEIFS(SalesInfo!C:C, SalesInfo!B:B, B2, SalesInfo!D:D, C2)'},\n",
       "  'MinSales': {'ColumnID': 'E',\n",
       "   'ColumnValue': '=_xlfn.MINIFS(SalesInfo!C:C, SalesInfo!B:B, B2, SalesInfo!D:D, C2)'},\n",
       "  'MaxSales': {'ColumnID': 'F',\n",
       "   'ColumnValue': '=_xlfn.MAXIFS(SalesInfo!C:C, SalesInfo!B:B, B2, SalesInfo!D:D, C2)'}}}"
      ]
     },
     "execution_count": 4,
     "metadata": {},
     "output_type": "execute_result"
    }
   ],
   "source": [
    "xls_str = process_excel_columns_xlwings(f\"{test_data_path}\\SalesData1.xlsx\",xls_col_info)\n",
    "xls_str"
   ]
  },
  {
   "cell_type": "code",
   "execution_count": 5,
   "metadata": {},
   "outputs": [],
   "source": [
    "messages = [\n",
    "    {\"role\": \"system\", \"content\": sheet_spark_prompt},\n",
    "    {\"role\": \"user\", \"content\": f\"Convert the excel logic representation to equivalent pyspark code : {xls_str}\"},\n",
    "  ]"
   ]
  },
  {
   "cell_type": "code",
   "execution_count": 6,
   "metadata": {},
   "outputs": [
    {
     "name": "stdout",
     "output_type": "stream",
     "text": [
      "Loading model: JasjyotSinghJaswal/code_qwen_1.5_7b_quant...\n"
     ]
    },
    {
     "name": "stderr",
     "output_type": "stream",
     "text": [
      "Unused kwargs: ['_load_in_4bit', '_load_in_8bit', 'quant_method']. These kwargs are not used in <class 'transformers.utils.quantization_config.BitsAndBytesConfig'>.\n"
     ]
    },
    {
     "name": "stdout",
     "output_type": "stream",
     "text": [
      "Error occurred: Failed to import transformers.integrations.bitsandbytes because of the following error (look up to see its traceback):\n",
      "[WinError 193] %1 is not a valid Win32 application\n",
      "CUDA cache cleared\n"
     ]
    }
   ],
   "source": [
    "generate_responses(\"JasjyotSinghJaswal/code_qwen_1.5_7b_quant\",messages)"
   ]
  },
  {
   "cell_type": "code",
   "execution_count": null,
   "metadata": {},
   "outputs": [],
   "source": []
  }
 ],
 "metadata": {
  "kernelspec": {
   "display_name": "Python 3",
   "language": "python",
   "name": "python3"
  },
  "language_info": {
   "codemirror_mode": {
    "name": "ipython",
    "version": 3
   },
   "file_extension": ".py",
   "mimetype": "text/x-python",
   "name": "python",
   "nbconvert_exporter": "python",
   "pygments_lexer": "ipython3",
   "version": "3.11.11"
  }
 },
 "nbformat": 4,
 "nbformat_minor": 2
}
