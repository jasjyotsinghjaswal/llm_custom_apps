{
 "cells": [
  {
   "cell_type": "code",
   "execution_count": 74,
   "metadata": {},
   "outputs": [],
   "source": [
    "import os\n",
    "from dotenv import load_dotenv\n",
    "load_dotenv()\n",
    "project_path = os.getenv(\"PROJECT_PATH\")"
   ]
  },
  {
   "cell_type": "code",
   "execution_count": 75,
   "metadata": {},
   "outputs": [],
   "source": [
    "%run \"{project_path}\\llm_custom_apps\\llm_apps\\oh_sheet_its_spark\\utils.ipynb\""
   ]
  },
  {
   "cell_type": "code",
   "execution_count": 76,
   "metadata": {},
   "outputs": [
    {
     "data": {
      "text/plain": [
       "{'SalesInfo': {'StoreID': {'ColumnID': 'A'},\n",
       "  'SalesYear': {'ColumnID': 'B'},\n",
       "  'SalesValue': {'ColumnID': 'C'},\n",
       "  'StoreLocation': {'ColumnID': 'D'},\n",
       "  'Owner': {'ColumnID': 'E'}},\n",
       " 'RegionInfo': {'ID': {'ColumnID': 'A'}, 'Location': {'ColumnID': 'B'}},\n",
       " 'StoreInfo': {'ID': {'ColumnID': 'A'},\n",
       "  'RegionID': {'ColumnID': 'B'},\n",
       "  'StoreOwner': {'ColumnID': 'C'}},\n",
       " 'SaleGrowthReport1': {'StoreID': {'ColumnID': 'A'},\n",
       "  'AverageSales': {'ColumnID': 'B'},\n",
       "  'MinSales': {'ColumnID': 'C'},\n",
       "  'MaxSales': {'ColumnID': 'D'}},\n",
       " 'SaleGrowthReport2': {'StoreLocation-SalesYear': {'ColumnID': 'A'},\n",
       "  'Year': {'ColumnID': 'B'},\n",
       "  'Location': {'ColumnID': 'C'},\n",
       "  'AverageSales': {'ColumnID': 'D'},\n",
       "  'MinSales': {'ColumnID': 'E'},\n",
       "  'MaxSales': {'ColumnID': 'F'}}}"
      ]
     },
     "execution_count": 76,
     "metadata": {},
     "output_type": "execute_result"
    }
   ],
   "source": [
    "xls_col_info = get_excel_col_header(f\"{test_data_path}\\SalesData1.xlsx\")\n",
    "xls_col_info"
   ]
  },
  {
   "cell_type": "code",
   "execution_count": 77,
   "metadata": {},
   "outputs": [
    {
     "data": {
      "text/plain": [
       "{'SalesInfo': {'StoreID': {'ColumnID': 'A', 'ColumnValue': '11'},\n",
       "  'SalesYear': {'ColumnID': 'B', 'ColumnValue': '2020'},\n",
       "  'SalesValue': {'ColumnID': 'C', 'ColumnValue': '15789'},\n",
       "  'StoreLocation': {'ColumnID': 'D',\n",
       "   'ColumnValue': '=IFERROR(INDEX(RegionInfo!B:B, MATCH(INDEX(StoreInfo!B:B, MATCH(A2, StoreInfo!A:A, 0)), RegionInfo!A:A, 0)), \"\")'},\n",
       "  'Owner': {'ColumnID': 'E',\n",
       "   'ColumnValue': '=IFERROR(INDEX(StoreInfo!C:C, MATCH(A2, StoreInfo!A:A, 0)), \"\")'}},\n",
       " 'RegionInfo': {'ID': {'ColumnID': 'A', 'ColumnValue': '1'},\n",
       "  'Location': {'ColumnID': 'B', 'ColumnValue': 'Halifax'}},\n",
       " 'StoreInfo': {'ID': {'ColumnID': 'A', 'ColumnValue': '11'},\n",
       "  'RegionID': {'ColumnID': 'B', 'ColumnValue': '1'},\n",
       "  'StoreOwner': {'ColumnID': 'C', 'ColumnValue': 'Ethan Carter'}},\n",
       " 'SaleGrowthReport1': {'StoreID': {'ColumnID': 'A',\n",
       "   'ColumnValue': '=_xlfn.UNIQUE(_xlfn._xlws.FILTER(SalesInfo!A:A, SalesInfo!A:A<>\"\"))'},\n",
       "  'AverageSales': {'ColumnID': 'B',\n",
       "   'ColumnValue': '=AVERAGEIF(SalesInfo!A:A, A2, SalesInfo!C:C)'},\n",
       "  'MinSales': {'ColumnID': 'C',\n",
       "   'ColumnValue': '=MIN(IF(SalesInfo!A:A=A2, SalesInfo!C:C))'},\n",
       "  'MaxSales': {'ColumnID': 'D',\n",
       "   'ColumnValue': '=MAX(IF(SalesInfo!A:A=A2, SalesInfo!C:C))'}},\n",
       " 'SaleGrowthReport2': {'StoreLocation-SalesYear': {'ColumnID': 'A',\n",
       "   'ColumnValue': '=_xlfn.UNIQUE(SalesInfo!D:D & \"-\" & SalesInfo!B:B)'},\n",
       "  'Year': {'ColumnID': 'B',\n",
       "   'ColumnValue': '=RIGHT(A2, LEN(A2) - FIND(\"-\", A2))'},\n",
       "  'Location': {'ColumnID': 'C', 'ColumnValue': '=LEFT(A2, FIND(\"-\", A2) - 1)'},\n",
       "  'AverageSales': {'ColumnID': 'D',\n",
       "   'ColumnValue': '=AVERAGEIFS(SalesInfo!C:C, SalesInfo!B:B, B2, SalesInfo!D:D, C2)'},\n",
       "  'MinSales': {'ColumnID': 'E',\n",
       "   'ColumnValue': '=_xlfn.MINIFS(SalesInfo!C:C, SalesInfo!B:B, B2, SalesInfo!D:D, C2)'},\n",
       "  'MaxSales': {'ColumnID': 'F',\n",
       "   'ColumnValue': '=_xlfn.MAXIFS(SalesInfo!C:C, SalesInfo!B:B, B2, SalesInfo!D:D, C2)'}}}"
      ]
     },
     "execution_count": 77,
     "metadata": {},
     "output_type": "execute_result"
    }
   ],
   "source": [
    "xls_str = process_excel_columns_xlwings(f\"{test_data_path}\\SalesData1.xlsx\",xls_col_info)\n",
    "xls_str"
   ]
  },
  {
   "cell_type": "code",
   "execution_count": 78,
   "metadata": {},
   "outputs": [],
   "source": [
    "messages = [\n",
    "    {\"role\": \"system\", \"content\": sheet_spark_prompt},\n",
    "    {\"role\": \"user\", \"content\": f\"Convert the excel logic representation to equivalent pyspark code : {xls_str}\"},\n",
    "  ]"
   ]
  },
  {
   "cell_type": "code",
   "execution_count": 79,
   "metadata": {},
   "outputs": [],
   "source": [
    "cd_resp = generate_responses_from_inf(hf_token,messages,\"Qwen/Qwen2.5-Coder-32B-Instruct\",5000)"
   ]
  },
  {
   "cell_type": "code",
   "execution_count": 80,
   "metadata": {},
   "outputs": [
    {
     "data": {
      "text/markdown": [
       "### Explanation of Sheets\n",
       "\n",
       "1. **SalesInfo**:\n",
       "   - **Hardcoded Columns**: StoreID, SalesYear, SalesValue\n",
       "   - **Derived Columns**: StoreLocation, Owner\n",
       "\n",
       "2. **RegionInfo**:\n",
       "   - **Hardcoded Columns**: ID, Location\n",
       "   - **Derived Columns**: None\n",
       "\n",
       "3. **StoreInfo**:\n",
       "   - **Hardcoded Columns**: ID, RegionID, StoreOwner\n",
       "   - **Derived Columns**: None\n",
       "\n",
       "4. **SaleGrowthReport1**:\n",
       "   - **Hardcoded Columns**: None\n",
       "   - **Derived Columns**: StoreID, AverageSales, MinSales, MaxSales\n",
       "\n",
       "5. **SaleGrowthReport2**:\n",
       "   - **Hardcoded Columns**: None\n",
       "   - **Derived Columns**: StoreLocation-SalesYear, Year, Location, AverageSales, MinSales, MaxSales\n",
       "\n",
       "### PySpark Code\n",
       "\n",
       "```python\n",
       "from pyspark.sql import SparkSession\n",
       "from pyspark.sql.functions import *\n",
       "from pyspark.sql.window import Window\n",
       "\n",
       "# Initialize Spark Session\n",
       "spark = SparkSession.builder.appName(\"ExcelToSpark\").getOrCreate()\n",
       "\n",
       "# Read Excel sheets into DataFrames if they have hardcoded columns\n",
       "sales_info = spark.read.format(\"excel\").option(\"sheetName\", \"SalesInfo\").load().select(\"A\", \"B\", \"C\")\n",
       "region_info = spark.read.format(\"excel\").option(\"sheetName\", \"RegionInfo\").load().select(\"A\", \"B\")\n",
       "store_info = spark.read.format(\"excel\").option(\"sheetName\", \"StoreInfo\").load().select(\"A\", \"B\", \"C\")\n",
       "\n",
       "# Create derived columns for SalesInfo\n",
       "sales_info_df = (\n",
       "    sales_info\n",
       "    .withColumn(\"StoreID\", col(\"A\"))  # Pseudo Code: StoreID is the value in column A\n",
       "    .withColumn(\"SalesYear\", col(\"B\"))  # Pseudo Code: SalesYear is the value in column B\n",
       "    .withColumn(\"SalesValue\", col(\"C\"))  # Pseudo Code: SalesValue is the value in column C\n",
       "    .join(store_info, sales_info.A == store_info.A, \"left\")\n",
       "    .withColumn(\"Owner\", col(\"C\"))  # Pseudo Code: Owner is derived from StoreInfo\n",
       "    .join(region_info, store_info.B == region_info.A, \"left\")\n",
       "    .withColumn(\"StoreLocation\", col(\"B\"))  # Pseudo Code: StoreLocation is derived from RegionInfo\n",
       "    .select(\"StoreID\", \"SalesYear\", \"SalesValue\", \"StoreLocation\", \"Owner\")\n",
       ")\n",
       "\n",
       "# Create derived columns for SaleGrowthReport1\n",
       "sale_growth_report_1_df = (\n",
       "    sales_info_df\n",
       "    .groupBy(\"StoreID\")\n",
       "    .agg(\n",
       "        avg(\"SalesValue\").alias(\"AverageSales\"),  # Pseudo Code: AverageSales is the average of SalesValue for each StoreID\n",
       "        min(\"SalesValue\").alias(\"MinSales\"),      # Pseudo Code: MinSales is the minimum of SalesValue for each StoreID\n",
       "        max(\"SalesValue\").alias(\"MaxSales\")       # Pseudo Code: MaxSales is the maximum of SalesValue for each StoreID\n",
       "    )\n",
       ")\n",
       "\n",
       "# Create derived columns for SaleGrowthReport2\n",
       "sale_growth_report_2_df = (\n",
       "    sales_info_df\n",
       "    .withColumn(\"StoreLocation-SalesYear\", concat(col(\"StoreLocation\"), lit(\"-\"), col(\"SalesYear\")))  # Pseudo Code: StoreLocation-SalesYear is a concatenation of StoreLocation and SalesYear\n",
       "    .groupBy(\"StoreLocation-SalesYear\")\n",
       "    .agg(\n",
       "        last(split(col(\"StoreLocation-SalesYear\"), \"-\").getItem(1)).alias(\"Year\"),  # Pseudo Code: Year is the part after \"-\" in StoreLocation-SalesYear\n",
       "        last(split(col(\"StoreLocation-SalesYear\"), \"-\").getItem(0)).alias(\"Location\"),  # Pseudo Code: Location is the part before \"-\" in StoreLocation-SalesYear\n",
       "        avg(\"SalesValue\").alias(\"AverageSales\"),  # Pseudo Code: AverageSales is the average of SalesValue for each StoreLocation-SalesYear\n",
       "        min(\"SalesValue\").alias(\"MinSales\"),      # Pseudo Code: MinSales is the minimum of SalesValue for each StoreLocation-SalesYear\n",
       "        max(\"SalesValue\").alias(\"MaxSales\")       # Pseudo Code: MaxSales is the maximum of SalesValue for each StoreLocation-SalesYear\n",
       "    )\n",
       ")\n",
       "```\n",
       "\n",
       "This code initializes a Spark session, reads the necessary sheets from an Excel file into DataFrames, and applies transformations to derive the required columns as specified in the dictionary."
      ],
      "text/plain": [
       "<IPython.core.display.Markdown object>"
      ]
     },
     "execution_count": 80,
     "metadata": {},
     "output_type": "execute_result"
    }
   ],
   "source": [
    "cd_resp"
   ]
  }
 ],
 "metadata": {
  "kernelspec": {
   "display_name": "Python 3",
   "language": "python",
   "name": "python3"
  },
  "language_info": {
   "codemirror_mode": {
    "name": "ipython",
    "version": 3
   },
   "file_extension": ".py",
   "mimetype": "text/x-python",
   "name": "python",
   "nbconvert_exporter": "python",
   "pygments_lexer": "ipython3",
   "version": "3.11.11"
  }
 },
 "nbformat": 4,
 "nbformat_minor": 2
}
