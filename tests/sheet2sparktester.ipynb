{
 "cells": [
  {
   "cell_type": "code",
   "execution_count": 44,
   "metadata": {},
   "outputs": [],
   "source": [
    "import os\n",
    "from dotenv import load_dotenv\n",
    "load_dotenv()\n",
    "project_path = os.getenv(\"PROJECT_PATH\")"
   ]
  },
  {
   "cell_type": "code",
   "execution_count": 45,
   "metadata": {},
   "outputs": [
    {
     "name": "stdout",
     "output_type": "stream",
     "text": [
      "13\n"
     ]
    }
   ],
   "source": [
    "%run \"{project_path}\\llm_custom_apps\\llm_apps\\oh_sheet_its_spark\\utils.ipynb\""
   ]
  },
  {
   "cell_type": "code",
   "execution_count": 46,
   "metadata": {},
   "outputs": [
    {
     "data": {
      "text/plain": [
       "{'SalesInfo': {'StoreID': {'ColumnID': 'A'},\n",
       "  'SalesYear': {'ColumnID': 'B'},\n",
       "  'SalesValue': {'ColumnID': 'C'},\n",
       "  'StoreLocation': {'ColumnID': 'D'},\n",
       "  'Owner': {'ColumnID': 'E'}},\n",
       " 'RegionInfo': {'ID': {'ColumnID': 'A'}, 'Location': {'ColumnID': 'B'}},\n",
       " 'StoreInfo': {'ID': {'ColumnID': 'A'},\n",
       "  'RegionID': {'ColumnID': 'B'},\n",
       "  'StoreOwner': {'ColumnID': 'C'}},\n",
       " 'SaleGrowthReport1': {'StoreID': {'ColumnID': 'A'},\n",
       "  'AverageSales': {'ColumnID': 'B'},\n",
       "  'MinSales': {'ColumnID': 'C'},\n",
       "  'MaxSales': {'ColumnID': 'D'}},\n",
       " 'SaleGrowthReport2': {'StoreLocation-SalesYear': {'ColumnID': 'A'},\n",
       "  'Year': {'ColumnID': 'B'},\n",
       "  'Location': {'ColumnID': 'C'},\n",
       "  'AverageSales': {'ColumnID': 'D'},\n",
       "  'MinSales': {'ColumnID': 'E'},\n",
       "  'MaxSales': {'ColumnID': 'F'}}}"
      ]
     },
     "execution_count": 46,
     "metadata": {},
     "output_type": "execute_result"
    }
   ],
   "source": [
    "xls_col_info = get_excel_col_header(f\"{test_data_path}\\SalesData1.xlsx\")\n",
    "xls_col_info"
   ]
  },
  {
   "cell_type": "code",
   "execution_count": null,
   "metadata": {},
   "outputs": [
    {
     "data": {
      "text/plain": [
       "[{'SalesInfo': {'StoreID': {'ColumnID': 'A', 'ColumnValue': 11},\n",
       "   'SalesYear': {'ColumnID': 'B', 'ColumnValue': 2020},\n",
       "   'SalesValue': {'ColumnID': 'C', 'ColumnValue': 15789},\n",
       "   'StoreLocation': {'ColumnID': 'D',\n",
       "    'ColumnValue': '=IFERROR(INDEX(RegionInfo!B:B, MATCH(INDEX(StoreInfo!B:B, MATCH(A2, StoreInfo!A:A, 0)), RegionInfo!A:A, 0)), \"\")'},\n",
       "   'Owner': {'ColumnID': 'E',\n",
       "    'ColumnValue': '=IFERROR(INDEX(StoreInfo!C:C, MATCH(A2, StoreInfo!A:A, 0)), \"\")'}}},\n",
       " {'RegionInfo': {'ID': {'ColumnID': 'A', 'ColumnValue': 1},\n",
       "   'Location': {'ColumnID': 'B', 'ColumnValue': 'Halifax'}}},\n",
       " {'StoreInfo': {'ID': {'ColumnID': 'A', 'ColumnValue': 11},\n",
       "   'RegionID': {'ColumnID': 'B', 'ColumnValue': 1},\n",
       "   'StoreOwner': {'ColumnID': 'C', 'ColumnValue': 'Ethan Carter'}}},\n",
       " {'SaleGrowthReport1': {<openpyxl.worksheet.formula.ArrayFormula at 0x29d6b3b25d0>: {'ColumnID': 'A',\n",
       "    'ColumnValue': 11},\n",
       "   'AverageSales': {'ColumnID': 'B',\n",
       "    'ColumnValue': '=AVERAGEIF(SalesInfo!A:A, A2, SalesInfo!C:C)'},\n",
       "   'MinSales': {'ColumnID': 'C',\n",
       "    'ColumnValue': <openpyxl.worksheet.formula.ArrayFormula at 0x29d6b3b1290>},\n",
       "   'MaxSales': {'ColumnID': 'D',\n",
       "    'ColumnValue': <openpyxl.worksheet.formula.ArrayFormula at 0x29d6b3b2290>}}},\n",
       " {'SaleGrowthReport2': {<openpyxl.worksheet.formula.ArrayFormula at 0x29d6bb4a050>: {'ColumnID': 'A',\n",
       "    'ColumnValue': 'Halifax-2020'},\n",
       "   'Year': {'ColumnID': 'B',\n",
       "    'ColumnValue': '=RIGHT(A2, LEN(A2) - FIND(\"-\", A2))'},\n",
       "   'Location': {'ColumnID': 'C',\n",
       "    'ColumnValue': '=LEFT(A2, FIND(\"-\", A2) - 1)'},\n",
       "   'AverageSales': {'ColumnID': 'D',\n",
       "    'ColumnValue': '=AVERAGEIFS(SalesInfo!C:C, SalesInfo!B:B, B2, SalesInfo!D:D, C2)'},\n",
       "   'MinSales': {'ColumnID': 'E',\n",
       "    'ColumnValue': '=_xlfn.MINIFS(SalesInfo!C:C, SalesInfo!B:B, B2, SalesInfo!D:D, C2)'},\n",
       "   'MaxSales': {'ColumnID': 'F',\n",
       "    'ColumnValue': '=_xlfn.MAXIFS(SalesInfo!C:C, SalesInfo!B:B, B2, SalesInfo!D:D, C2)'}}}]"
      ]
     },
     "execution_count": 42,
     "metadata": {},
     "output_type": "execute_result"
    }
   ],
   "source": [
    "xls_str = extract_excel_structure(f\"{test_data_path}\\SalesData1.xlsx\")\n",
    "xls_str"
   ]
  },
  {
   "cell_type": "code",
   "execution_count": 4,
   "metadata": {},
   "outputs": [
    {
     "ename": "TypeError",
     "evalue": "keys must be str, int, float, bool or None, not ArrayFormula",
     "output_type": "error",
     "traceback": [
      "\u001b[1;31m---------------------------------------------------------------------------\u001b[0m",
      "\u001b[1;31mTypeError\u001b[0m                                 Traceback (most recent call last)",
      "Cell \u001b[1;32mIn[4], line 2\u001b[0m\n\u001b[0;32m      1\u001b[0m sprdsht_info \u001b[38;5;241m=\u001b[39m extract_excel_structure(\u001b[38;5;124mf\u001b[39m\u001b[38;5;124m\"\u001b[39m\u001b[38;5;132;01m{\u001b[39;00mtest_data_path\u001b[38;5;132;01m}\u001b[39;00m\u001b[38;5;124m\\\u001b[39m\u001b[38;5;124mSalesData1.xlsx\u001b[39m\u001b[38;5;124m\"\u001b[39m)\n\u001b[1;32m----> 2\u001b[0m \u001b[43mjson\u001b[49m\u001b[38;5;241;43m.\u001b[39;49m\u001b[43mdumps\u001b[49m\u001b[43m(\u001b[49m\u001b[43msprdsht_info\u001b[49m\u001b[43m)\u001b[49m\n",
      "File \u001b[1;32md:\\gitprojects\\llm_custom_apps\\.venv\\Lib\\json\\__init__.py:231\u001b[0m, in \u001b[0;36mdumps\u001b[1;34m(obj, skipkeys, ensure_ascii, check_circular, allow_nan, cls, indent, separators, default, sort_keys, **kw)\u001b[0m\n\u001b[0;32m    226\u001b[0m \u001b[38;5;66;03m# cached encoder\u001b[39;00m\n\u001b[0;32m    227\u001b[0m \u001b[38;5;28;01mif\u001b[39;00m (\u001b[38;5;129;01mnot\u001b[39;00m skipkeys \u001b[38;5;129;01mand\u001b[39;00m ensure_ascii \u001b[38;5;129;01mand\u001b[39;00m\n\u001b[0;32m    228\u001b[0m     check_circular \u001b[38;5;129;01mand\u001b[39;00m allow_nan \u001b[38;5;129;01mand\u001b[39;00m\n\u001b[0;32m    229\u001b[0m     \u001b[38;5;28mcls\u001b[39m \u001b[38;5;129;01mis\u001b[39;00m \u001b[38;5;28;01mNone\u001b[39;00m \u001b[38;5;129;01mand\u001b[39;00m indent \u001b[38;5;129;01mis\u001b[39;00m \u001b[38;5;28;01mNone\u001b[39;00m \u001b[38;5;129;01mand\u001b[39;00m separators \u001b[38;5;129;01mis\u001b[39;00m \u001b[38;5;28;01mNone\u001b[39;00m \u001b[38;5;129;01mand\u001b[39;00m\n\u001b[0;32m    230\u001b[0m     default \u001b[38;5;129;01mis\u001b[39;00m \u001b[38;5;28;01mNone\u001b[39;00m \u001b[38;5;129;01mand\u001b[39;00m \u001b[38;5;129;01mnot\u001b[39;00m sort_keys \u001b[38;5;129;01mand\u001b[39;00m \u001b[38;5;129;01mnot\u001b[39;00m kw):\n\u001b[1;32m--> 231\u001b[0m     \u001b[38;5;28;01mreturn\u001b[39;00m \u001b[43m_default_encoder\u001b[49m\u001b[38;5;241;43m.\u001b[39;49m\u001b[43mencode\u001b[49m\u001b[43m(\u001b[49m\u001b[43mobj\u001b[49m\u001b[43m)\u001b[49m\n\u001b[0;32m    232\u001b[0m \u001b[38;5;28;01mif\u001b[39;00m \u001b[38;5;28mcls\u001b[39m \u001b[38;5;129;01mis\u001b[39;00m \u001b[38;5;28;01mNone\u001b[39;00m:\n\u001b[0;32m    233\u001b[0m     \u001b[38;5;28mcls\u001b[39m \u001b[38;5;241m=\u001b[39m JSONEncoder\n",
      "File \u001b[1;32md:\\gitprojects\\llm_custom_apps\\.venv\\Lib\\json\\encoder.py:200\u001b[0m, in \u001b[0;36mJSONEncoder.encode\u001b[1;34m(self, o)\u001b[0m\n\u001b[0;32m    196\u001b[0m         \u001b[38;5;28;01mreturn\u001b[39;00m encode_basestring(o)\n\u001b[0;32m    197\u001b[0m \u001b[38;5;66;03m# This doesn't pass the iterator directly to ''.join() because the\u001b[39;00m\n\u001b[0;32m    198\u001b[0m \u001b[38;5;66;03m# exceptions aren't as detailed.  The list call should be roughly\u001b[39;00m\n\u001b[0;32m    199\u001b[0m \u001b[38;5;66;03m# equivalent to the PySequence_Fast that ''.join() would do.\u001b[39;00m\n\u001b[1;32m--> 200\u001b[0m chunks \u001b[38;5;241m=\u001b[39m \u001b[38;5;28;43mself\u001b[39;49m\u001b[38;5;241;43m.\u001b[39;49m\u001b[43miterencode\u001b[49m\u001b[43m(\u001b[49m\u001b[43mo\u001b[49m\u001b[43m,\u001b[49m\u001b[43m \u001b[49m\u001b[43m_one_shot\u001b[49m\u001b[38;5;241;43m=\u001b[39;49m\u001b[38;5;28;43;01mTrue\u001b[39;49;00m\u001b[43m)\u001b[49m\n\u001b[0;32m    201\u001b[0m \u001b[38;5;28;01mif\u001b[39;00m \u001b[38;5;129;01mnot\u001b[39;00m \u001b[38;5;28misinstance\u001b[39m(chunks, (\u001b[38;5;28mlist\u001b[39m, \u001b[38;5;28mtuple\u001b[39m)):\n\u001b[0;32m    202\u001b[0m     chunks \u001b[38;5;241m=\u001b[39m \u001b[38;5;28mlist\u001b[39m(chunks)\n",
      "File \u001b[1;32md:\\gitprojects\\llm_custom_apps\\.venv\\Lib\\json\\encoder.py:258\u001b[0m, in \u001b[0;36mJSONEncoder.iterencode\u001b[1;34m(self, o, _one_shot)\u001b[0m\n\u001b[0;32m    253\u001b[0m \u001b[38;5;28;01melse\u001b[39;00m:\n\u001b[0;32m    254\u001b[0m     _iterencode \u001b[38;5;241m=\u001b[39m _make_iterencode(\n\u001b[0;32m    255\u001b[0m         markers, \u001b[38;5;28mself\u001b[39m\u001b[38;5;241m.\u001b[39mdefault, _encoder, \u001b[38;5;28mself\u001b[39m\u001b[38;5;241m.\u001b[39mindent, floatstr,\n\u001b[0;32m    256\u001b[0m         \u001b[38;5;28mself\u001b[39m\u001b[38;5;241m.\u001b[39mkey_separator, \u001b[38;5;28mself\u001b[39m\u001b[38;5;241m.\u001b[39mitem_separator, \u001b[38;5;28mself\u001b[39m\u001b[38;5;241m.\u001b[39msort_keys,\n\u001b[0;32m    257\u001b[0m         \u001b[38;5;28mself\u001b[39m\u001b[38;5;241m.\u001b[39mskipkeys, _one_shot)\n\u001b[1;32m--> 258\u001b[0m \u001b[38;5;28;01mreturn\u001b[39;00m \u001b[43m_iterencode\u001b[49m\u001b[43m(\u001b[49m\u001b[43mo\u001b[49m\u001b[43m,\u001b[49m\u001b[43m \u001b[49m\u001b[38;5;241;43m0\u001b[39;49m\u001b[43m)\u001b[49m\n",
      "\u001b[1;31mTypeError\u001b[0m: keys must be str, int, float, bool or None, not ArrayFormula"
     ]
    }
   ],
   "source": [
    "sprdsht_info = extract_excel_structure(f\"{test_data_path}\\SalesData1.xlsx\")\n",
    "json.dumps(sprdsht_info)"
   ]
  },
  {
   "cell_type": "code",
   "execution_count": null,
   "metadata": {},
   "outputs": [],
   "source": []
  }
 ],
 "metadata": {
  "kernelspec": {
   "display_name": "Python 3",
   "language": "python",
   "name": "python3"
  },
  "language_info": {
   "codemirror_mode": {
    "name": "ipython",
    "version": 3
   },
   "file_extension": ".py",
   "mimetype": "text/x-python",
   "name": "python",
   "nbconvert_exporter": "python",
   "pygments_lexer": "ipython3",
   "version": "3.11.11"
  }
 },
 "nbformat": 4,
 "nbformat_minor": 2
}
