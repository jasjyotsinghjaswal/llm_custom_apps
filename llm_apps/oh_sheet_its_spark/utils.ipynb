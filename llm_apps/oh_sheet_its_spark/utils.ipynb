{
 "cells": [
  {
   "cell_type": "code",
   "execution_count": 2,
   "metadata": {},
   "outputs": [],
   "source": [
    "import os\n",
    "from dotenv import load_dotenv\n",
    "load_dotenv()\n",
    "proj_dir = os.getenv(\"PROJ_DIR\")"
   ]
  },
  {
   "cell_type": "code",
   "execution_count": 15,
   "metadata": {},
   "outputs": [
    {
     "name": "stdout",
     "output_type": "stream",
     "text": [
      "13\n"
     ]
    }
   ],
   "source": [
    "%run \"{proj_dir}\\llm_custom_apps\\common_code\\common_func.ipynb\""
   ]
  },
  {
   "cell_type": "code",
   "execution_count": 6,
   "metadata": {},
   "outputs": [],
   "source": [
    "def extract_excel_structure(file_path):\n",
    "    \"\"\"\n",
    "    Extracts information from an Excel file and returns a list of dictionaries.\n",
    "\n",
    "    Args:\n",
    "        file_path (str): Path to the Excel file.\n",
    "\n",
    "    Returns:\n",
    "        List[dict]: List of dictionaries where the key is the sheet name, and the value is a dictionary \n",
    "        with column headers as keys, each having a nested dictionary with 'ColumnID' and 'ColumnValue'.\n",
    "\n",
    "    Raises:\n",
    "        FileNotFoundError: If the file does not exist.\n",
    "        ValueError: If the file is not a valid Excel file.\n",
    "        Exception: For other unexpected errors.\n",
    "    \"\"\"\n",
    "    try:\n",
    "        workbook = openpyxl.load_workbook(file_path, data_only=False)\n",
    "        result = []\n",
    "\n",
    "        for sheet_name in workbook.sheetnames:\n",
    "            sheet = workbook[sheet_name]\n",
    "            sheet_data = {}\n",
    "\n",
    "            # Iterate through columns\n",
    "            for col_idx, column in enumerate(sheet.iter_cols(min_row=1, max_row=1), start=1):\n",
    "                header = column[0].value\n",
    "                if header is not None:\n",
    "                    col_letter = sheet.cell(row=1, column=col_idx).column_letter\n",
    "\n",
    "                    # Get cell values for the column\n",
    "                    cell = sheet.cell(row=2, column=col_idx)\n",
    "                    if cell.value is not None:\n",
    "                        column_value = cell.value\n",
    "                        if cell.data_type == 'f':  # Check if the cell contains a formula\n",
    "                            column_value = cell.formula\n",
    "\n",
    "                        sheet_data[header] = {\n",
    "                            'ColumnID': col_letter,\n",
    "                            'ColumnValue': column_value\n",
    "                        }\n",
    "\n",
    "            result.append({sheet_name: sheet_data})\n",
    "\n",
    "        return result\n",
    "\n",
    "    except FileNotFoundError:\n",
    "        raise FileNotFoundError(f\"The file '{file_path}' does not exist.\")\n",
    "    except ValueError as ve:\n",
    "        raise ValueError(f\"The file '{file_path}' is not a valid Excel file: {ve}\")\n",
    "    except Exception as e:\n",
    "        raise Exception(f\"An unexpected error occurred: {e}\")\n",
    "\n",
    "# Example usage\n",
    "# file_path = 'example.xlsx'\n",
    "# print(extract_excel_structure(file_path))\n"
   ]
  },
  {
   "cell_type": "code",
   "execution_count": null,
   "metadata": {},
   "outputs": [],
   "source": []
  }
 ],
 "metadata": {
  "kernelspec": {
   "display_name": "Python 3",
   "language": "python",
   "name": "python3"
  },
  "language_info": {
   "codemirror_mode": {
    "name": "ipython",
    "version": 3
   },
   "file_extension": ".py",
   "mimetype": "text/x-python",
   "name": "python",
   "nbconvert_exporter": "python",
   "pygments_lexer": "ipython3",
   "version": "3.11.11"
  }
 },
 "nbformat": 4,
 "nbformat_minor": 2
}
