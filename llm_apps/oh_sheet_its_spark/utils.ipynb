{
 "cells": [
  {
   "cell_type": "code",
   "execution_count": 2,
   "metadata": {},
   "outputs": [],
   "source": [
    "import os\n",
    "from dotenv import load_dotenv\n",
    "load_dotenv()\n",
    "project_path = os.getenv(\"PROJECT_PATH\")"
   ]
  },
  {
   "cell_type": "code",
   "execution_count": 3,
   "metadata": {},
   "outputs": [
    {
     "name": "stdout",
     "output_type": "stream",
     "text": [
      "13\n"
     ]
    }
   ],
   "source": [
    "%run \"{project_path}\\llm_custom_apps\\common_code\\common_func.ipynb\""
   ]
  },
  {
   "cell_type": "code",
   "execution_count": 5,
   "metadata": {},
   "outputs": [],
   "source": [
    "def get_excel_col_header(file_path):\n",
    "    \"\"\"\n",
    "    Traverses through all sheets in the Excel file and returns a dictionary.\n",
    "    \n",
    "    Each key represents a sheet name, and its value is another dictionary where\n",
    "    each key is the Column Name (from the first row) and the value is another \n",
    "    dictionary with key 'ColumnID' and value as the Column ID (column letter, e.g., 'A', 'B', 'C').\n",
    "\n",
    "    :param file_path: Path to the Excel file\n",
    "    :return: Dictionary with sheet names and column headers\n",
    "    \"\"\"\n",
    "    result = {}\n",
    "\n",
    "    # Load the workbook\n",
    "    workbook = openpyxl.load_workbook(file_path, data_only=True)\n",
    "\n",
    "    # Iterate through each sheet in the workbook\n",
    "    for sheet_name in workbook.sheetnames:\n",
    "        sheet = workbook[sheet_name]\n",
    "        sheet_data = {}\n",
    "\n",
    "        # Get the first row (header) for each column\n",
    "        for column_idx, cell in enumerate(sheet[1], 1):  # sheet[1] gets the first row\n",
    "            col_letter = openpyxl.utils.get_column_letter(column_idx)\n",
    "            sheet_data[cell.value] = {'ColumnID': col_letter}  # Nested dict with 'ColumnID'\n",
    "\n",
    "        # Add sheet data to the result dictionary\n",
    "        result[sheet_name] = sheet_data\n",
    "\n",
    "    return result\n",
    "\n",
    "# Example Usage\n",
    "# file_path = \"path_to_your_excel_file.xlsx\"\n",
    "# result = get_excel_col_header(file_path)\n",
    "# print(result)\n"
   ]
  },
  {
   "cell_type": "code",
   "execution_count": 7,
   "metadata": {},
   "outputs": [],
   "source": [
    "def process_excel_columns_xlwings(file_path, sheet_columns_dict):\n",
    "    \"\"\"\n",
    "    Updates the sheet_columns_dict with an additional key 'ColumnValue' for each field,\n",
    "    extracting the formula (if applicable) or the value from the second row of the specified column.\n",
    "\n",
    "    :param file_path: Path to the Excel spreadsheet.\n",
    "    :param sheet_columns_dict: Dictionary containing sheet and column information.\n",
    "    :return: Updated dictionary with 'ColumnValue' for each field.\n",
    "    \"\"\"\n",
    "    # Open the workbook in xlwings\n",
    "    app = xw.App(visible=False)\n",
    "    wb = app.books.open(file_path)\n",
    "    \n",
    "    try:\n",
    "        # Iterate over each sheet and its column configurations\n",
    "        for sheet_name, columns in sheet_columns_dict.items():\n",
    "            # Ensure the sheet exists in the workbook\n",
    "            if sheet_name not in [sheet.name for sheet in wb.sheets]:\n",
    "                raise ValueError(f\"Sheet '{sheet_name}' not found in the Excel file.\")\n",
    "\n",
    "            # Get the worksheet\n",
    "            ws = wb.sheets[sheet_name]\n",
    "\n",
    "            # Process each column\n",
    "            for column_name, column_info in columns.items():\n",
    "                # Extract the column ID\n",
    "                column_id = column_info['ColumnID']\n",
    "                \n",
    "                # Get the cell in the second row for the specified column\n",
    "                cell = ws.range(f\"{column_id}2\")\n",
    "\n",
    "                # Extract formula if applicable, else get the value\n",
    "                column_value = cell.formula if cell.formula != \"\" else cell.value\n",
    "\n",
    "                # Add the 'ColumnValue' key to the column_info\n",
    "                column_info['ColumnValue'] = column_value\n",
    "\n",
    "        # Return the updated dictionary\n",
    "        return sheet_columns_dict\n",
    "    \n",
    "    finally:\n",
    "        # Close the workbook and quit the app\n",
    "        wb.close()\n",
    "        app.quit()\n"
   ]
  },
  {
   "cell_type": "code",
   "execution_count": null,
   "metadata": {},
   "outputs": [],
   "source": []
  }
 ],
 "metadata": {
  "kernelspec": {
   "display_name": "Python 3",
   "language": "python",
   "name": "python3"
  },
  "language_info": {
   "codemirror_mode": {
    "name": "ipython",
    "version": 3
   },
   "file_extension": ".py",
   "mimetype": "text/x-python",
   "name": "python",
   "nbconvert_exporter": "python",
   "pygments_lexer": "ipython3",
   "version": "3.11.11"
  }
 },
 "nbformat": 4,
 "nbformat_minor": 2
}
