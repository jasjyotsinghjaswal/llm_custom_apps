{
 "cells": [
  {
   "cell_type": "code",
   "execution_count": 1,
   "metadata": {},
   "outputs": [],
   "source": [
    "import os\n",
    "from dotenv import load_dotenv\n",
    "load_dotenv()\n",
    "project_path = os.getenv(\"PROJECT_PATH\")"
   ]
  },
  {
   "cell_type": "code",
   "execution_count": 2,
   "metadata": {},
   "outputs": [],
   "source": [
    "%run \"{project_path}\\llm_custom_apps\\llm_apps\\oh_sheet_its_spark\\utils.ipynb\""
   ]
  },
  {
   "cell_type": "code",
   "execution_count": null,
   "metadata": {},
   "outputs": [
    {
     "name": "stderr",
     "output_type": "stream",
     "text": [
      "d:\\gitprojects\\llm_custom_apps\\.venv\\Lib\\site-packages\\gradio\\components\\chatbot.py:242: UserWarning: You have not specified a value for the `type` parameter. Defaulting to the 'tuples' format for chatbot messages, but this is deprecated and will be removed in a future version of Gradio. Please set type='messages' instead, which uses openai-style dictionaries with 'role' and 'content' keys.\n",
      "  warnings.warn(\n"
     ]
    }
   ],
   "source": [
    "# Function to format the messages properly\n",
    "def update_chat_history(messages, new_message, sender):\n",
    "    # Ensure each message is added as a list with two elements\n",
    "    messages.append([sender, new_message])\n",
    "    return messages\n",
    "\n",
    "# Function to generate assistant's responses (dummy implementation for example purposes)\n",
    "def generate_responses_from_inf(token, chat_history, model, max_tokens):\n",
    "    # Dummy response generation based on chat history (replace with your actual logic)\n",
    "    assistant_response = \"This is a response from the assistant.\"\n",
    "    return assistant_response\n",
    "\n",
    "# Gradio UI\n",
    "with gr.Blocks(css=\"\"\"\n",
    "    .title {text-align: center; color: #4a4a4a; font-size: 24px; margin-top: 20px;}\n",
    "    #upload_button {margin-bottom: 20px;}\n",
    "    #reset_button {background-color: #f39c12; color: white; margin-top: 20px;}\n",
    "    #send_button {background-color: #3498db; color: white;}\n",
    "    body {background-color: #f5f7fb;}  /* Light background color */\n",
    "    .gradio-container {background-color: #ffffff;}  /* White background for the main container */\n",
    "    .chatbot {background-color: #eaf0f6;}  /* Light blue for the chatbot */\n",
    "    .gr-chatbot-container {background-color: #eaf0f6;} /* Background for the chat window */\n",
    "    .gr-button {font-weight: bold; padding: 10px;} /* Make buttons bolder for better UX */\n",
    "\"\"\") as app:\n",
    "    gr.Markdown(\"# Excel-to-PySpark Chatbot\", elem_id=\"title\")\n",
    "\n",
    "    with gr.Row():\n",
    "        with gr.Column(scale=1, min_width=200):\n",
    "            upload_button = gr.File(label=\"Upload Excel File\", file_types=[\".xlsx\"], elem_id=\"upload_button\")\n",
    "            reset_button = gr.Button(\"Retry\", elem_id=\"reset_button\")\n",
    "            error_message = gr.Textbox(label=\"Error\", visible=False, interactive=False, elem_id=\"error_box\")\n",
    "            user_input = gr.Textbox(label=\"Your Message\", placeholder=\"Type your message here...\", elem_id=\"user_input\")\n",
    "            send_button = gr.Button(\"Send\", elem_id=\"send_button\")\n",
    "\n",
    "        with gr.Column(scale=3):\n",
    "            chatbot = gr.Chatbot(elem_id=\"chat_window\", label=\"Assistant\", height=400)\n",
    "\n",
    "    # Function for handling initial file upload (no initial system/user prompt)\n",
    "    def on_upload(file):\n",
    "        return [], None  # Just return an empty chat for now, no system/user prompts\n",
    "\n",
    "    # Function to handle sending messages\n",
    "    def on_send(user_message, chat_history):\n",
    "        assistant_response = generate_responses_from_inf(\"hf_token\", chat_history, \"Qwen/Qwen2.5-Coder-32B-Instruct\", 5000)\n",
    "        # Append the user message and assistant response as proper format\n",
    "        chat_history = update_chat_history(chat_history, user_message, \"user\")\n",
    "        chat_history = update_chat_history(chat_history, assistant_response, \"assistant\")\n",
    "        return chat_history\n",
    "\n",
    "    # Function to reset the conversation\n",
    "    def on_reset():\n",
    "        return [], None  # Reset chat history and no error message\n",
    "\n",
    "    # Event Bindings\n",
    "    upload_button.upload(on_upload, inputs=[upload_button], outputs=[chatbot])\n",
    "    send_button.click(on_send, inputs=[user_input, chatbot], outputs=[chatbot])\n",
    "    reset_button.click(on_reset, inputs=[], outputs=[chatbot, error_message])"
   ]
  },
  {
   "cell_type": "code",
   "execution_count": 6,
   "metadata": {},
   "outputs": [
    {
     "name": "stdout",
     "output_type": "stream",
     "text": [
      "* Running on local URL:  http://127.0.0.1:7861\n",
      "\n",
      "To create a public link, set `share=True` in `launch()`.\n"
     ]
    },
    {
     "data": {
      "text/html": [
       "<div><iframe src=\"http://127.0.0.1:7861/\" width=\"100%\" height=\"500\" allow=\"autoplay; camera; microphone; clipboard-read; clipboard-write;\" frameborder=\"0\" allowfullscreen></iframe></div>"
      ],
      "text/plain": [
       "<IPython.core.display.HTML object>"
      ]
     },
     "metadata": {},
     "output_type": "display_data"
    },
    {
     "data": {
      "text/plain": []
     },
     "execution_count": 6,
     "metadata": {},
     "output_type": "execute_result"
    },
    {
     "name": "stderr",
     "output_type": "stream",
     "text": [
      "Traceback (most recent call last):\n",
      "  File \"d:\\gitprojects\\llm_custom_apps\\.venv\\Lib\\site-packages\\gradio\\queueing.py\", line 625, in process_events\n",
      "    response = await route_utils.call_process_api(\n",
      "               ^^^^^^^^^^^^^^^^^^^^^^^^^^^^^^^^^^^\n",
      "  File \"d:\\gitprojects\\llm_custom_apps\\.venv\\Lib\\site-packages\\gradio\\route_utils.py\", line 322, in call_process_api\n",
      "    output = await app.get_blocks().process_api(\n",
      "             ^^^^^^^^^^^^^^^^^^^^^^^^^^^^^^^^^^^\n",
      "  File \"d:\\gitprojects\\llm_custom_apps\\.venv\\Lib\\site-packages\\gradio\\blocks.py\", line 2057, in process_api\n",
      "    data = await self.postprocess_data(block_fn, result[\"prediction\"], state)\n",
      "           ^^^^^^^^^^^^^^^^^^^^^^^^^^^^^^^^^^^^^^^^^^^^^^^^^^^^^^^^^^^^^^^^^^\n",
      "  File \"d:\\gitprojects\\llm_custom_apps\\.venv\\Lib\\site-packages\\gradio\\blocks.py\", line 1863, in postprocess_data\n",
      "    prediction_value = block.postprocess(prediction_value)\n",
      "                       ^^^^^^^^^^^^^^^^^^^^^^^^^^^^^^^^^^^\n",
      "  File \"d:\\gitprojects\\llm_custom_apps\\.venv\\Lib\\site-packages\\gradio\\components\\chatbot.py\", line 562, in postprocess\n",
      "    self._check_format(value, \"tuples\")\n",
      "  File \"d:\\gitprojects\\llm_custom_apps\\.venv\\Lib\\site-packages\\gradio\\components\\chatbot.py\", line 361, in _check_format\n",
      "    raise Error(\n",
      "gradio.exceptions.Error: 'Data incompatible with tuples format. Each message should be a list of length 2.'\n"
     ]
    }
   ],
   "source": [
    "# Launch the app\n",
    "app.launch(inbrowser=True)"
   ]
  },
  {
   "cell_type": "code",
   "execution_count": null,
   "metadata": {},
   "outputs": [],
   "source": []
  }
 ],
 "metadata": {
  "kernelspec": {
   "display_name": "Python 3",
   "language": "python",
   "name": "python3"
  },
  "language_info": {
   "codemirror_mode": {
    "name": "ipython",
    "version": 3
   },
   "file_extension": ".py",
   "mimetype": "text/x-python",
   "name": "python",
   "nbconvert_exporter": "python",
   "pygments_lexer": "ipython3",
   "version": "3.11.11"
  }
 },
 "nbformat": 4,
 "nbformat_minor": 2
}
