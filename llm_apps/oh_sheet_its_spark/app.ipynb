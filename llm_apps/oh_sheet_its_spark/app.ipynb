{
 "cells": [
  {
   "cell_type": "code",
   "execution_count": 1,
   "metadata": {},
   "outputs": [],
   "source": [
    "import os\n",
    "from dotenv import load_dotenv\n",
    "load_dotenv()\n",
    "project_path = os.getenv(\"PROJECT_PATH\")"
   ]
  },
  {
   "cell_type": "code",
   "execution_count": 2,
   "metadata": {},
   "outputs": [],
   "source": [
    "%run \"{project_path}\\llm_custom_apps\\llm_apps\\oh_sheet_its_spark\\utils.ipynb\""
   ]
  },
  {
   "cell_type": "code",
   "execution_count": 1,
   "metadata": {},
   "outputs": [
    {
     "name": "stdout",
     "output_type": "stream",
     "text": [
      "* Running on local URL:  http://127.0.0.1:7860\n",
      "\n",
      "To create a public link, set `share=True` in `launch()`.\n"
     ]
    },
    {
     "data": {
      "text/html": [
       "<div><iframe src=\"http://127.0.0.1:7860/\" width=\"100%\" height=\"500\" allow=\"autoplay; camera; microphone; clipboard-read; clipboard-write;\" frameborder=\"0\" allowfullscreen></iframe></div>"
      ],
      "text/plain": [
       "<IPython.core.display.HTML object>"
      ]
     },
     "metadata": {},
     "output_type": "display_data"
    },
    {
     "data": {
      "text/plain": []
     },
     "execution_count": 1,
     "metadata": {},
     "output_type": "execute_result"
    },
    {
     "name": "stdout",
     "output_type": "stream",
     "text": [
      "[{'role': 'User', 'content': 'Hello , how are you'}, {'role': 'assistant', 'content': 'Bot: uoy era woh , olleH'}]\n",
      "[{'role': 'User', 'content': 'Hello , how are you'}, {'role': 'assistant', 'content': 'Bot: uoy era woh , olleH'}, {'role': 'User', 'content': 'This is awesome'}, {'role': 'assistant', 'content': 'Bot: emosewa si sihT'}]\n"
     ]
    }
   ],
   "source": [
    "import gradio as gr\n",
    "\n",
    "# Initialize an empty list to maintain chat history & Message history\n",
    "chat_history = []\n",
    "msg_history = []\n",
    "file_uploaded = False  # Flag to track if a file is uploaded\n",
    "\n",
    "# Function to handle file upload\n",
    "def handle_file_upload(file):\n",
    "    global file_uploaded\n",
    "    if file:\n",
    "        file_uploaded = True  # Set the flag to True when a file is uploaded\n",
    "        return \"File uploaded successfully. You can now start chatting!\"\n",
    "    else:\n",
    "        file_uploaded = False\n",
    "        return \"Please upload a valid Excel file.\"\n",
    "\n",
    "# Function to enable chat input and submit button after file upload\n",
    "def enable_chat_components(file_status):\n",
    "    if \"successfully\" in file_status.lower():\n",
    "        return gr.update(interactive=True), gr.update(interactive=True)\n",
    "    else:\n",
    "        return gr.update(interactive=False), gr.update(interactive=False)\n",
    "\n",
    "# Function to handle chat history\n",
    "def chatbot_history(user_input):\n",
    "    global chat_history  # Use the global chat_history list\n",
    "    global msg_history\n",
    "\n",
    "    # Append user input to the chat history\n",
    "    chat_history.append((\"User\", user_input))\n",
    "    msg_history.append({'role': \"User\", 'content': user_input})\n",
    "\n",
    "    # Generate a response (you can replace this with more complex logic)\n",
    "    bot_response = f\"Bot: {user_input[::-1]}\"  # Reverse input for fun\n",
    "    msg_history.append({'role': \"assistant\", 'content': bot_response})\n",
    "\n",
    "    # Append bot response to chat history\n",
    "    chat_history.append((\"Bot\", bot_response))\n",
    "\n",
    "    # Create a formatted string of the conversation history\n",
    "    conversation_history = '''\n",
    "        <div style=\"border: 2px solid #ddd; padding: 20px; max-height: 300px; overflow-y: auto; background: #f0f0f0; display: flex; flex-direction: column; border-radius: 10px; box-shadow: 0 4px 10px rgba(0,0,0,0.1);\">\n",
    "    '''\n",
    "\n",
    "    # Add user and bot messages with flexbox styling for alignment\n",
    "    for speaker, message in chat_history:\n",
    "        if speaker == \"User\":\n",
    "            conversation_history += f'''\n",
    "                <div style=\"display: flex; justify-content: flex-start; margin-bottom: 10px;\">\n",
    "                    <div style=\"background-color: #d0f7d6; color: #3b8e3a; padding: 10px; border-radius: 12px; max-width: 60%; word-wrap: break-word;\">\n",
    "                        <b>{speaker}:</b> {message}\n",
    "                    </div>\n",
    "                </div>\n",
    "            '''\n",
    "        else:\n",
    "            # Bot messages with no special formatting\n",
    "            conversation_history += f'''\n",
    "                <div style=\"display: flex; justify-content: flex-end; margin-bottom: 10px;\">\n",
    "                    <div style=\"background-color: #ffffff; padding: 10px; border-radius: 12px; max-width: 60%; word-wrap: break-word;\">\n",
    "                        <b>{speaker}:</b> {message}\n",
    "                    </div>\n",
    "                </div>\n",
    "            '''\n",
    "\n",
    "    # Close the chat container div\n",
    "    conversation_history += \"</div>\"\n",
    "\n",
    "    print(msg_history)\n",
    "\n",
    "    # Return the formatted conversation history and clear the input field\n",
    "    return conversation_history, \"\"\n",
    "\n",
    "# Create Gradio interface using Blocks with Soft theme\n",
    "with gr.Blocks(theme=gr.themes.Soft()) as demo:\n",
    "    # Add a title with proper font\n",
    "    gr.HTML(\"\"\"\n",
    "        <div style=\"font-size: 2.5em; color: #4CAF50; font-weight: bold; text-align: center;\">\n",
    "            Oh Sheet!!!!! It's Spark\n",
    "        </div>\n",
    "    \"\"\")\n",
    "\n",
    "    # Layout with chat and input section\n",
    "    with gr.Row():\n",
    "        # Message section on the left (30% width)\n",
    "        with gr.Column(scale=1, min_width=30):\n",
    "            # File uploader at the top\n",
    "            file_upload = gr.File(label=\"Upload an Excel File\", file_types=[\".xls\", \".xlsx\"], interactive=True)\n",
    "            file_status = gr.Textbox(label=\"\", interactive=False, lines=1, value=\"Please upload an Excel file to begin.\", show_label=False)\n",
    "\n",
    "            # Chatbox and submit button\n",
    "            input_text = gr.Textbox(label=\"Enter your message\", lines=1, interactive=False)  # Initially disabled\n",
    "            submit_button = gr.Button(\"Submit\", variant=\"primary\", interactive=False)  # Initially disabled\n",
    "\n",
    "        # Chatbot section on the right (70% width)\n",
    "        with gr.Column(scale=2, min_width=70):\n",
    "            output_text = gr.HTML(label=\"Chatbot History\", elem_id=\"chat_history\")\n",
    "\n",
    "    # Ensure file upload enables the chatbox\n",
    "    file_upload.change(fn=handle_file_upload, inputs=file_upload, outputs=file_status)\n",
    "    file_status.change(fn=enable_chat_components, inputs=file_status, outputs=[input_text, submit_button])\n",
    "\n",
    "    # Ensure Enter key is mapped to submit functionality\n",
    "    input_text.submit(fn=chatbot_history, inputs=input_text, outputs=[output_text, input_text])\n",
    "    submit_button.click(fn=chatbot_history, inputs=input_text, outputs=[output_text, input_text])\n",
    "\n",
    "# Launch the app\n",
    "demo.launch(inbrowser=True)\n"
   ]
  },
  {
   "cell_type": "code",
   "execution_count": null,
   "metadata": {},
   "outputs": [],
   "source": []
  }
 ],
 "metadata": {
  "kernelspec": {
   "display_name": "Python 3",
   "language": "python",
   "name": "python3"
  },
  "language_info": {
   "codemirror_mode": {
    "name": "ipython",
    "version": 3
   },
   "file_extension": ".py",
   "mimetype": "text/x-python",
   "name": "python",
   "nbconvert_exporter": "python",
   "pygments_lexer": "ipython3",
   "version": "3.11.11"
  }
 },
 "nbformat": 4,
 "nbformat_minor": 2
}
