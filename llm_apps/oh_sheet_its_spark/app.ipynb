{
 "cells": [
  {
   "cell_type": "code",
   "execution_count": 1,
   "metadata": {},
   "outputs": [],
   "source": [
    "import os\n",
    "from dotenv import load_dotenv\n",
    "load_dotenv()\n",
    "project_path = os.getenv(\"PROJECT_PATH\")"
   ]
  },
  {
   "cell_type": "code",
   "execution_count": 2,
   "metadata": {},
   "outputs": [],
   "source": [
    "%run \"{project_path}\\llm_custom_apps\\llm_apps\\oh_sheet_its_spark\\utils.ipynb\""
   ]
  },
  {
   "cell_type": "code",
   "execution_count": null,
   "metadata": {},
   "outputs": [],
   "source": [
    "def handle_file_upload(file):\n",
    "    initial_msg = gen_initial_msg(file.name)\n",
    "    try:\n",
    "        # Initial assistant response\n",
    "        model_resp = generate_responses_from_inf(hf_token, initial_msg, \"Qwen/Qwen2.5-Coder-32B-Instruct\", 5000)\n",
    "        conv_history = [(\"assistant\", model_resp)] \n",
    "        msg_history = [{\"role\": \"assistant\", \"content\": model_resp}]  \n",
    "        return conv_history, msg_history\n",
    "    except Exception as e:\n",
    "        if e.response.status_code in [422, 500]:\n",
    "            return \"Model Busy!!! Please try after sometime.\", None\n",
    "        else:\n",
    "            return \"An unexpected error occurred.\", None\n",
    "\n",
    "def handle_user_message(user_msg, history):\n",
    "    # Append the assistant's previous response and the new user message to the conversation history\n",
    "    assistant_msg = generate_responses_from_inf(hf_token, history + [(\"user\", user_msg)], \"Qwen/Qwen2.5-Coder-32B-Instruct\", 5000)\n",
    "    \n",
    "    # Append the new message to the history\n",
    "    history.append({\"role\": \"assistant\", \"content\": assistant_msg})\n",
    "    history.append({\"role\": \"user\", \"content\": user_msg})\n",
    "    \n",
    "    return (\"assistant\", assistant_msg), history\n",
    "\n",
    "# Gradio Interface\n",
    "with gr.Blocks() as app:\n",
    "    # Adding a header for the app\n",
    "    gr.Markdown(\"\"\"\n",
    "    <div style=\"background-color: #f0f0f0; padding: 20px; border-radius: 10px;\">\n",
    "        <h1 style=\"text-align: center;\">Chat with Assistant</h1>\n",
    "    </div>\n",
    "    \"\"\", elem_id=\"header\")\n",
    "\n",
    "    with gr.Row():\n",
    "        with gr.Column(scale=1):\n",
    "            file_upload = gr.File(label=\"Upload Excel File\", file_types=[\".xlsx\"])\n",
    "            retry_btn = gr.Button(\"Retry\", visible=False)\n",
    "            \n",
    "        with gr.Column(scale=2):\n",
    "            # Set up the chatbot\n",
    "            chatbot = gr.Chatbot()\n",
    "\n",
    "    # Connect file upload action to the handle function\n",
    "    file_upload.change(handle_file_upload, inputs=file_upload, outputs=[chatbot, retry_btn])\n",
    "    \n",
    "    # User input and message submission\n",
    "    user_input = gr.Textbox(label=\"Your Message\", placeholder=\"Type here...\")\n",
    "    user_input.submit(handle_user_message, inputs=[user_input, chatbot], outputs=[chatbot, user_input])\n",
    "\n",
    "    # Retry button to reset chat interface\n",
    "    retry_btn.click(handle_file_upload, inputs=file_upload, outputs=[chatbot, retry_btn])\n",
    "\n",
    "# CSS styling to style the button and chat interface\n",
    "app.css = \"\"\"\n",
    "#retry-btn {\n",
    "    background-color: #4CAF50;\n",
    "    color: white;\n",
    "    width: 200px;\n",
    "    height: 50px;\n",
    "    border-radius: 10px;\n",
    "    font-size: 16px;\n",
    "}\n",
    "\n",
    "#chat-interface {\n",
    "    background-color: #E8E8E8;\n",
    "    border-radius: 10px;\n",
    "    width: 100%;\n",
    "    height: 500px;\n",
    "    padding: 10px;\n",
    "    overflow-y: scroll;\n",
    "}\n",
    "\"\"\"\n",
    "\n",
    "# Launch the app\n",
    "app.launch()"
   ]
  },
  {
   "cell_type": "code",
   "execution_count": null,
   "metadata": {},
   "outputs": [
    {
     "name": "stdout",
     "output_type": "stream",
     "text": [
      "* Running on local URL:  http://127.0.0.1:7863\n",
      "\n",
      "To create a public link, set `share=True` in `launch()`.\n"
     ]
    },
    {
     "data": {
      "text/html": [
       "<div><iframe src=\"http://127.0.0.1:7863/\" width=\"100%\" height=\"500\" allow=\"autoplay; camera; microphone; clipboard-read; clipboard-write;\" frameborder=\"0\" allowfullscreen></iframe></div>"
      ],
      "text/plain": [
       "<IPython.core.display.HTML object>"
      ]
     },
     "metadata": {},
     "output_type": "display_data"
    },
    {
     "data": {
      "text/plain": []
     },
     "execution_count": 8,
     "metadata": {},
     "output_type": "execute_result"
    }
   ],
   "source": [
    "import gradio as gr\n",
    "\n",
    "# Initialize an empty list to maintain chat history\n",
    "chat_history = []\n",
    "\n",
    "# Function to handle chat history\n",
    "def chatbot_history(user_input):\n",
    "    global chat_history  # Use the global chat_history list\n",
    "    \n",
    "    # Append user input to the chat history\n",
    "    chat_history.append((\"User\", user_input))\n",
    "    \n",
    "    # Generate a response (you can replace this with more complex logic)\n",
    "    bot_response = f\"Bot: {user_input[::-1]}\"  # Reverse input for fun\n",
    "    \n",
    "    # Append bot response to chat history\n",
    "    chat_history.append((\"Bot\", bot_response))\n",
    "    \n",
    "    # Create a formatted string of the conversation history\n",
    "    conversation_history = \"\"\n",
    "    \n",
    "    # Add user and bot messages with flexbox styling for alignment\n",
    "    for speaker, message in chat_history:\n",
    "        if speaker == \"User\":\n",
    "            conversation_history += f'''\n",
    "                <div style=\"display: flex; justify-content: flex-end; margin-bottom: 5px;\">\n",
    "                    <div style=\"background-color: lightblue; color: blue; padding: 8px; border-radius: 10px; max-width: 60%; word-wrap: break-word;\">\n",
    "                        <b>{speaker}:</b> {message}\n",
    "                    </div>\n",
    "                </div>\n",
    "            '''\n",
    "        else:\n",
    "            conversation_history += f'''\n",
    "                <div style=\"display: flex; justify-content: flex-start; margin-bottom: 5px;\">\n",
    "                    <div style=\"background-color: lightgreen; color: green; padding: 8px; border-radius: 10px; max-width: 60%; word-wrap: break-word;\">\n",
    "                        <b>{speaker}:</b> {message}\n",
    "                    </div>\n",
    "                </div>\n",
    "            '''\n",
    "    \n",
    "    # Return the formatted conversation history and clear the input field\n",
    "    return conversation_history, \"\"\n",
    "\n",
    "# Create Gradio interface using Blocks\n",
    "with gr.Blocks() as demo:\n",
    "    input_text = gr.Textbox(label=\"Enter your message\", lines=1)\n",
    "    submit_button = gr.Button(\"Submit\")\n",
    "    output_text = gr.HTML(label=\"Chatbot History\")\n",
    "\n",
    "    # Set up the submit button to trigger the chatbot_history function\n",
    "    submit_button.click(fn=chatbot_history, inputs=input_text, outputs=[output_text, input_text])\n",
    "\n",
    "# Launch the app\n",
    "demo.launch()\n"
   ]
  },
  {
   "cell_type": "code",
   "execution_count": null,
   "metadata": {},
   "outputs": [],
   "source": []
  }
 ],
 "metadata": {
  "kernelspec": {
   "display_name": "Python 3",
   "language": "python",
   "name": "python3"
  },
  "language_info": {
   "codemirror_mode": {
    "name": "ipython",
    "version": 3
   },
   "file_extension": ".py",
   "mimetype": "text/x-python",
   "name": "python",
   "nbconvert_exporter": "python",
   "pygments_lexer": "ipython3",
   "version": "3.11.11"
  }
 },
 "nbformat": 4,
 "nbformat_minor": 2
}
